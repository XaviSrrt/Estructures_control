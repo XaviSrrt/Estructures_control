{
 "cells": [
  {
   "cell_type": "markdown",
   "id": "22f13564",
   "metadata": {},
   "source": [
    "### Tasca M2 T02"
   ]
  },
  {
   "cell_type": "markdown",
   "id": "2654e91b",
   "metadata": {},
   "source": [
    "Descripció\n",
    "\n",
    "\n",
    "\n",
    "\n",
    "Exercicis d'estructures de control amb Python."
   ]
  },
  {
   "cell_type": "markdown",
   "id": "dc0232a2",
   "metadata": {},
   "source": [
    "- Exercici 1\n",
    "L'exercici consisteix a crear un programa que et classifiqui una variable numèrica  \n",
    "en funció de l’escala Suspès/Aprovat/Notable/Excel·lent.\n",
    "\n",
    "Recorda que Suspès < 5, Aprovat > 5 i < 7, Notable > 7 i < 9 i Excel·lent > 9."
   ]
  },
  {
   "cell_type": "code",
   "execution_count": 84,
   "id": "539f3908",
   "metadata": {},
   "outputs": [
    {
     "name": "stdout",
     "output_type": "stream",
     "text": [
      "Notable\n"
     ]
    }
   ],
   "source": [
    "nota=8.3\n",
    "if nota<5:\n",
    "    qualificacio=\"Suspès\"\n",
    "elif nota<7:\n",
    "    qualificacio=\"Aprovat\"\n",
    "elif nota<9:\n",
    "    qualificacio=\"Notable\"\n",
    "else:\n",
    "    qualificacio=\"Excel·lent\"\n",
    "print(qualificacio)"
   ]
  },
  {
   "cell_type": "markdown",
   "id": "57122c39",
   "metadata": {},
   "source": [
    "- Exercici 2\n",
    "Utilitzant el següent tutorial crea un programa que et pregunti dos números.  \n",
    "T’ha de mostrar un missatge dient si el primer és més gran, el segon és més gran o són iguals."
   ]
  },
  {
   "cell_type": "code",
   "execution_count": 20,
   "id": "7c15d36b",
   "metadata": {},
   "outputs": [
    {
     "name": "stdout",
     "output_type": "stream",
     "text": [
      "Necessitem dos numeros\n",
      "Primer número: 4\n",
      "Segon número:3\n",
      "El primer número és més gran que el segon\n"
     ]
    }
   ],
   "source": [
    "print('Necessitem dos numeros')\n",
    "num1=input('Primer número: ')\n",
    "num2=input('Segon número:')\n",
    "if num1<num2:\n",
    "    print('El segon número és més gran que el primer')\n",
    "elif num1>num2:\n",
    "    print('El primer número és més gran que el segon')\n",
    "else:\n",
    "    print('Els dos números són iguals')\n"
   ]
  },
  {
   "cell_type": "markdown",
   "id": "1fc6bc80",
   "metadata": {},
   "source": [
    "- Exercici 3\n",
    "Crea un programa que et pregunti el teu nom, i et demani un número.  \n",
    "Si el número és 0, hauria de mostrar un missatge d’error. En cas contrari,  \n",
    "hauria de mostrar el nom repetit tants cops com indiqui el número. Per exemple, “Joan Joan Joan”."
   ]
  },
  {
   "cell_type": "code",
   "execution_count": 40,
   "id": "1a7aadcc",
   "metadata": {},
   "outputs": [
    {
     "name": "stdout",
     "output_type": "stream",
     "text": [
      "Diguem el teu nom: Xavi\n",
      "Diguem un número: 4\n",
      "Xavi Xavi Xavi Xavi "
     ]
    }
   ],
   "source": [
    "nom=input('Diguem el teu nom: ')\n",
    "vegades=int(input('Diguem un número: '))\n",
    "if vegades==0:\n",
    "    print('Error: el valor 0 no està pèrmes')\n",
    "else:\n",
    "    #print((nom+' ')*vegades)\n",
    "    for x in range(vegades): print(nom,end=' ')\n",
    "\n"
   ]
  },
  {
   "cell_type": "markdown",
   "id": "c3ccfa3b",
   "metadata": {},
   "source": [
    "- Exercici 4\n",
    "Crea un programa que donada una llista qualsevol, et digui si és simètrica o no.  \n",
    "Si ho és, que et digui quants elements té."
   ]
  },
  {
   "cell_type": "code",
   "execution_count": 83,
   "id": "b4b6a282",
   "metadata": {},
   "outputs": [
    {
     "name": "stdout",
     "output_type": "stream",
     "text": [
      "La llista [34, 'prèssec', 45.7, 'prèssec', 34] és simètrica\n",
      "La llista te 5 elements\n"
     ]
    }
   ],
   "source": [
    "#llista=[34,\"prèssec\",45.7,False,\"groc\",34] #llista no simètrica\n",
    "llista=[34,\"prèssec\",45.7,\"prèssec\",34] #llista simètrica amb nombre senar d'elements\n",
    "#llista=[34,\"prèssec\",\"prèssec\",34] #llista simètrica amb numbre parell d'elements\n",
    "#llista=[34] #llista d'un sol element\n",
    "longitud=len(llista)\n",
    "# Recorrem la llista fins  a la meitat, comparant els elements de pñosicins simetriques i mentre siguin iguals\n",
    "# el recorregut acaba quan es detecten elements diferents que trenquen la simètria o s'arriba al centre de la llista\n",
    "simetrica=True\n",
    "i=0\n",
    "while i<longitud//2 and simetrica:\n",
    "    simetrica=llista[i]==llista[-(i+1)]\n",
    "    i=i+1\n",
    "if simetrica:\n",
    "    print('La llista {} és simètrica'.format(llista))\n",
    "    print('La llista te {} elements'.format(longitud))\n",
    "else:\n",
    "    print('La llista {} NO és simètrica'.format(llista))\n"
   ]
  },
  {
   "cell_type": "markdown",
   "id": "d85a0041",
   "metadata": {},
   "source": [
    "- Exercici 5\n",
    "Crea un programa que donada una llista, et digui quants números coincideixen amb la seva posició.  \n",
    "Per exemple [3,4,2,0,2,3,6] el 2 i el 6 coincideixen."
   ]
  },
  {
   "cell_type": "code",
   "execution_count": 82,
   "id": "10d0af73",
   "metadata": {},
   "outputs": [
    {
     "name": "stdout",
     "output_type": "stream",
     "text": [
      "Hi han 2 concidències.\n"
     ]
    }
   ],
   "source": [
    "llista= [3,4,2,0,2,3,6] \n",
    "longitud=len(llista)\n",
    "coincidencies=0\n",
    "for x in range(longitud):\n",
    "    if llista[x]==x: coincidencies+=1 #comptabilitzem la coincidència de valor amb posició\n",
    "else:\n",
    "    pass #no fem res\n",
    "print('Hi han {} concidències.'.format(coincidencies) )"
   ]
  }
 ],
 "metadata": {
  "kernelspec": {
   "display_name": "Python 3 (ipykernel)",
   "language": "python",
   "name": "python3"
  },
  "language_info": {
   "codemirror_mode": {
    "name": "ipython",
    "version": 3
   },
   "file_extension": ".py",
   "mimetype": "text/x-python",
   "name": "python",
   "nbconvert_exporter": "python",
   "pygments_lexer": "ipython3",
   "version": "3.9.7"
  }
 },
 "nbformat": 4,
 "nbformat_minor": 5
}
