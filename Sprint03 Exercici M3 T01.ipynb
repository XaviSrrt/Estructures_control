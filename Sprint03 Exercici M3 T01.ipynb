{
 "cells": [
  {
   "cell_type": "markdown",
   "id": "872bdfe6",
   "metadata": {},
   "source": [
    "#### Tasca M3 T01\n",
    "Exercicis de programació numèrica.\n",
    "\n",
    "\n",
    "\n",
    "- Exercici 1\n",
    "Crea una funció que donat un Array d’una dimensió, et faci un resum estadístic bàsic de les dades. Si detecta que l’array té més d’una dimensió, ha de mostrar un missatge d’error.\n",
    "\n",
    "\n",
    "\n"
   ]
  },
  {
   "cell_type": "code",
   "execution_count": 15,
   "id": "41a38762",
   "metadata": {},
   "outputs": [
    {
     "name": "stdout",
     "output_type": "stream",
     "text": [
      "Dades estadistiques bàsiques per:\n",
      " [1 2 3 4 5 6 7 8 9]\n",
      "Rang = 8\n",
      "Mitjana = 5.0\n",
      "Mediana = 5.0\n",
      "Desviacio tipica = 2.581988897471611\n",
      "Variança = 6.666666666666667\n",
      "Percentil 25 = 3.0\n",
      "Percentil 50 = 5.0\n",
      "Percentil 75 = 7.0\n",
      "Dades estadistiques bàsiques per:\n",
      " [[1 2]\n",
      " [3 4]]\n",
      "Error: El paràmetre d'entrada només pot ser un array d'una dimensió\n"
     ]
    }
   ],
   "source": [
    "import numpy as np\n",
    "\n",
    "\n",
    "def resum_estadistic_basic(x):\n",
    "    print(\"Dades estadistiques bàsiques per:\\n\",x)\n",
    "    if (x.ndim>1):\n",
    "        #El parametre d'entrada te més d'una dimensió: Error!!!\n",
    "        print(\"Error: El paràmetre d'entrada només pot ser un array d'una dimensió\")\n",
    "    else:\n",
    "        #El parametre d'entrada es un array:correcte\n",
    "        print('Rang =',np.ptp(x))\n",
    "        print('Mitjana =',np.mean(x))\n",
    "        print('Mediana =',np.median(x))\n",
    "        print('Desviacio tipica =',np.std(x))\n",
    "        print('Variança =',np.var(x))\n",
    "        print('Percentil 25 =',np.percentile(x,25))\n",
    "        print('Percentil 50 =',np.percentile(x,50))\n",
    "        print('Percentil 75 =',np.percentile(x,75))\n",
    "    \n",
    "arr=np.array([1,2,3,4,5,6,7,8,9])\n",
    "arr2=np.array([[1,2],[3,4]])\n",
    "resum_estadistic_basic(arr)\n",
    "resum_estadistic_basic(arr2)\n"
   ]
  },
  {
   "cell_type": "markdown",
   "id": "93915283",
   "metadata": {},
   "source": [
    "- Exercici 2\n",
    "Crea una funció que et generi un quadrat NxN de nombres aleatoris entre el 0 i el 100."
   ]
  },
  {
   "cell_type": "code",
   "execution_count": 7,
   "id": "7110bd45",
   "metadata": {},
   "outputs": [
    {
     "name": "stdout",
     "output_type": "stream",
     "text": [
      "[[77 54 13 36 49 76 64 46 65 22]\n",
      " [55 85 40 98 16 73 17 92  5 57]\n",
      " [ 0 66 46  0 65 36 50 46 60 51]\n",
      " [39 41 24 49 89 15 75 58 55 82]\n",
      " [70 88 78 95 84 62  7 59 16 84]\n",
      " [70 69 31 58 39 54  3 31 17 16]\n",
      " [41 63 70 32 98 84 40 91 54 78]\n",
      " [34 79 86 42 81 43 74  8 43 71]\n",
      " [70 67 84 53 23 72 43 33  7 99]\n",
      " [67 97 87 97  0 76 96 79 87 23]]\n"
     ]
    }
   ],
   "source": [
    "import numpy as np\n",
    "\n",
    "# funció sense paràmetres que retorna un array 10x10 de numeros aleatoris entre 0 i 100\n",
    "def quadrat_aleatori():\n",
    "    x = np.random.randint(100, size=(10,10))\n",
    "    return(x)\n",
    "\n",
    "#crida a la funcio\n",
    "qa=quadrat_aleatori()\n",
    "print(qa)\n"
   ]
  },
  {
   "cell_type": "markdown",
   "id": "413a35f5",
   "metadata": {},
   "source": [
    "- Exercici 3\n",
    "Crea una funció que donada una taula de dues dimensions (NxM), et calculi els totals per fila i els totals per columna.\n",
    "\n",
    "\n",
    "\n"
   ]
  },
  {
   "cell_type": "code",
   "execution_count": 58,
   "id": "6f008cfd",
   "metadata": {},
   "outputs": [
    {
     "name": "stdout",
     "output_type": "stream",
     "text": [
      "[[7 9 3]\n",
      " [4 0 0]\n",
      " [6 2 3]\n",
      " [9 1 1]\n",
      " [4 6 2]]\n",
      "La suma de les files és: [19  4 11 11 12]\n",
      "La suma de les columnnes és: [30 18  9]\n"
     ]
    }
   ],
   "source": [
    "import numpy as np\n",
    "\n",
    "#funció per sumar files i columnes d'una matriu donada\n",
    "#El paràmetre d'entrada es una matriu N*M\n",
    "#Retorna uns llista (ndarray) amb dues subllistes; la suma de les files, i la suma deles columnes\n",
    "def suma_files_columnes(m):\n",
    "    sfiles = np.sum(m, axis=1)\n",
    "    scolumnes = np.sum(m, axis=0)\n",
    "    return([sfiles,scolumnes])\n",
    "    \n",
    "#generem una matriu (nfiles x ncolumnes) i la passem com a paràmetre a la funció definida\n",
    "nfiles=5\n",
    "ncolumnes=3\n",
    "mprova=np.random.randint(10,size=(nfiles,ncolumnes))\n",
    "print(mprova)\n",
    "resultat=suma_files_columnes(mprova)\n",
    "print('La suma de les files és:',resultat[0])\n",
    "print('La suma de les columnnes és:',resultat[1])\n"
   ]
  },
  {
   "cell_type": "markdown",
   "id": "7ec048f1",
   "metadata": {},
   "source": [
    "- Exercici 4\n",
    "Implementa manualment una funció que calculi el coeficient de correlació. Informa-te'n sobre els seus usos i interpretació."
   ]
  },
  {
   "cell_type": "code",
   "execution_count": 89,
   "id": "2c4382bd",
   "metadata": {},
   "outputs": [
    {
     "name": "stdout",
     "output_type": "stream",
     "text": [
      "[ 5 91 64 57 74 79 22 33  8 81 38 81 32 77 49 81 43 47 53 74]\n",
      "Variable x: [ 2  3  4  4  5  6  6  7  7  8 10 10]\n",
      "Variable y: [ 1  3  2  4  4  4  6  4  6  7  9 10]\n",
      "mitja x: 6.0\n",
      "mitja_y: 5.0\n",
      "x per y: [  2   9   8  16  20  24  36  28  42  56  90 100]\n",
      "x quadrat: [  4   9  16  16  25  36  36  49  49  64 100 100]\n",
      "y quadrat: [  1   9   4  16  16  16  36  16  36  49  81 100]\n",
      "suma de x*y: 431\n",
      "Mitja x*y: 35.916666666666664\n",
      "Covariança: 5.916666666666664\n",
      "desviació típica x 2.449489742783178\n",
      "desviació típica y 2.5819888974716116\n",
      "coeficient de correlació 0.9355071411331451\n",
      "El coeficient de correlacio es: 0.9355071411331451\n",
      "Correlació directa\n",
      "Correlació forta\n"
     ]
    }
   ],
   "source": [
    "import numpy as np\n",
    "\n",
    "#funcio per calcula el cefient de correlacio de dues variables\n",
    "#la entrada són les sues variables en format dos arrays\n",
    "#la sortida és un float que representa el coeficient de correlació\n",
    "def coef_corr(x,y):\n",
    "    print('Variable x:',x)\n",
    "    print('Variable y:',y)\n",
    "    mitja_x=np.mean(x)\n",
    "    mitja_y=np.mean(y)\n",
    "    print('mitja x:',mitja_x)\n",
    "    print('mitja_y:',mitja_y)\n",
    "    prod_xy=x*y\n",
    "    print('x per y:',prod_xy)\n",
    "    x2=x*x\n",
    "    print('x quadrat:',x2)\n",
    "    y2=y*y\n",
    "    print('y quadrat:',y2)\n",
    "    suma_xy=sum(prod_xy)\n",
    "    print('suma de x*y:',suma_xy)\n",
    "    mitja_xy=np.mean(prod_xy)\n",
    "    print('Mitja x*y:',mitja_xy)\n",
    "    covarianca=mitja_xy-(mitja_x*mitja_y)\n",
    "    print('Covariança:',covarianca)\n",
    "    #càlcul de desviacions típiques\n",
    "    mitja_x2=np.mean(x2)\n",
    "    dt_x=np.sqrt(mitja_x2-mitja_x*mitja_x)\n",
    "    print('desviació típica x',dt_x)\n",
    "    mitja_y2=np.mean(y2)\n",
    "    dt_y=np.sqrt(mitja_y2-mitja_y*mitja_y)\n",
    "    print('desviació típica y',dt_y)\n",
    "    #calcul coeficient de correlacio\n",
    "    resultat=covarianca/(dt_x*dt_y)\n",
    "    print('coeficient de correlació',resultat)\n",
    "    return(resultat)\n",
    "\n",
    "#joc proves 1\n",
    "a1=np.array([1,2,3,4,5,6,7,8,9,10,11,12,13,14,15,16,17,18,19,20])\n",
    "a2=np.array([2,4,6,8,10,12,14,16,28,20,22,24,26,28,30,32,34,36,38,40])\n",
    "#joc de proves 2\n",
    "b1=np.array([2,3,4,4,5,6,6,7,7,8,10,10])\n",
    "b2=np.array([1,3,2,4,4,4,6,4,6,7,9,10])\n",
    "#joc de proves 3\n",
    "c1=np.random.randint(100,size=20)\n",
    "print(c1)\n",
    "c2=np.random.randint(100,size=20)\n",
    "#crida a la funcio i presentacio de resultat\n",
    "cc=coef_corr(b1,b2)\n",
    "print('El coeficient de correlacio es:',cc)\n",
    "if (cc>=0):\n",
    "    print('Correlació directa')\n",
    "else:\n",
    "    print('Correlació inversa')\n",
    "    \n",
    "if (abs(cc)>0.8):\n",
    "    print('Correlació forta')\n",
    "elif (abs(cc)<0.2):\n",
    "    print('Correlació feble')\n",
    "else:\n",
    "      print('No esta clar')\n"
   ]
  }
 ],
 "metadata": {
  "kernelspec": {
   "display_name": "Python 3 (ipykernel)",
   "language": "python",
   "name": "python3"
  },
  "language_info": {
   "codemirror_mode": {
    "name": "ipython",
    "version": 3
   },
   "file_extension": ".py",
   "mimetype": "text/x-python",
   "name": "python",
   "nbconvert_exporter": "python",
   "pygments_lexer": "ipython3",
   "version": "3.9.7"
  }
 },
 "nbformat": 4,
 "nbformat_minor": 5
}
